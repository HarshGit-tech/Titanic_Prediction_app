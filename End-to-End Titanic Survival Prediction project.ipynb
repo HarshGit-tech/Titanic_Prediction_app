{
 "cells": [
  {
   "cell_type": "markdown",
   "id": "c29e31b7",
   "metadata": {},
   "source": [
    "# Project Objective\n",
    "\n",
    "    The goal of this project is to build a machine learning model that predicts whether a passenger survived the Titanic shipwreck, based on features like age, sex, class, fare, and more.\n",
    "\n",
    "    The project includes:\n",
    "\n",
    "        - Data cleaning and preprocessing\n",
    "\n",
    "        - Exploratory Data Analysis (EDA)\n",
    "\n",
    "        - Feature engineering\n",
    "\n",
    "        - Model training and evaluation\n",
    "\n",
    "        - Making predictions on the test dataset"
   ]
  },
  {
   "cell_type": "code",
   "execution_count": 1,
   "id": "0556e09c",
   "metadata": {},
   "outputs": [],
   "source": [
    "# import necessary libraries\n",
    "# Basic libraries\n",
    "import numpy as np\n",
    "import pandas as pd\n",
    "\n",
    "# Visualization\n",
    "import matplotlib.pyplot as plt\n",
    "import seaborn as sns\n",
    "\n",
    "# Machine Learning\n",
    "from sklearn.model_selection import train_test_split, GridSearchCV\n",
    "from sklearn.preprocessing import StandardScaler, LabelEncoder\n",
    "from sklearn.linear_model import LogisticRegression\n",
    "from sklearn.ensemble import RandomForestClassifier\n",
    "from xgboost import XGBClassifier\n",
    "from sklearn.metrics import accuracy_score, confusion_matrix, classification_report, f1_score, precision_score, recall_score\n",
    "\n",
    "# Ignore warnings\n",
    "import warnings\n",
    "warnings.filterwarnings(\"ignore\")\n"
   ]
  },
  {
   "cell_type": "markdown",
   "id": "5276eb6a",
   "metadata": {},
   "source": [
    "## Load and Explore the Data"
   ]
  },
  {
   "cell_type": "code",
   "execution_count": 2,
   "id": "d7671dd7",
   "metadata": {},
   "outputs": [
    {
     "data": {
      "application/vnd.microsoft.datawrangler.viewer.v0+json": {
       "columns": [
        {
         "name": "index",
         "rawType": "int64",
         "type": "integer"
        },
        {
         "name": "PassengerId",
         "rawType": "int64",
         "type": "integer"
        },
        {
         "name": "Survived",
         "rawType": "int64",
         "type": "integer"
        },
        {
         "name": "Pclass",
         "rawType": "int64",
         "type": "integer"
        },
        {
         "name": "Name",
         "rawType": "object",
         "type": "string"
        },
        {
         "name": "Sex",
         "rawType": "object",
         "type": "string"
        },
        {
         "name": "Age",
         "rawType": "float64",
         "type": "float"
        },
        {
         "name": "SibSp",
         "rawType": "int64",
         "type": "integer"
        },
        {
         "name": "Parch",
         "rawType": "int64",
         "type": "integer"
        },
        {
         "name": "Ticket",
         "rawType": "object",
         "type": "string"
        },
        {
         "name": "Fare",
         "rawType": "float64",
         "type": "float"
        },
        {
         "name": "Cabin",
         "rawType": "object",
         "type": "unknown"
        },
        {
         "name": "Embarked",
         "rawType": "object",
         "type": "string"
        }
       ],
       "conversionMethod": "pd.DataFrame",
       "ref": "fec9201d-8adb-4e87-b610-a844a7161785",
       "rows": [
        [
         "0",
         "1",
         "0",
         "3",
         "Braund, Mr. Owen Harris",
         "male",
         "22.0",
         "1",
         "0",
         "A/5 21171",
         "7.25",
         null,
         "S"
        ],
        [
         "1",
         "2",
         "1",
         "1",
         "Cumings, Mrs. John Bradley (Florence Briggs Thayer)",
         "female",
         "38.0",
         "1",
         "0",
         "PC 17599",
         "71.2833",
         "C85",
         "C"
        ],
        [
         "2",
         "3",
         "1",
         "3",
         "Heikkinen, Miss. Laina",
         "female",
         "26.0",
         "0",
         "0",
         "STON/O2. 3101282",
         "7.925",
         null,
         "S"
        ],
        [
         "3",
         "4",
         "1",
         "1",
         "Futrelle, Mrs. Jacques Heath (Lily May Peel)",
         "female",
         "35.0",
         "1",
         "0",
         "113803",
         "53.1",
         "C123",
         "S"
        ],
        [
         "4",
         "5",
         "0",
         "3",
         "Allen, Mr. William Henry",
         "male",
         "35.0",
         "0",
         "0",
         "373450",
         "8.05",
         null,
         "S"
        ]
       ],
       "shape": {
        "columns": 12,
        "rows": 5
       }
      },
      "text/html": [
       "<div>\n",
       "<style scoped>\n",
       "    .dataframe tbody tr th:only-of-type {\n",
       "        vertical-align: middle;\n",
       "    }\n",
       "\n",
       "    .dataframe tbody tr th {\n",
       "        vertical-align: top;\n",
       "    }\n",
       "\n",
       "    .dataframe thead th {\n",
       "        text-align: right;\n",
       "    }\n",
       "</style>\n",
       "<table border=\"1\" class=\"dataframe\">\n",
       "  <thead>\n",
       "    <tr style=\"text-align: right;\">\n",
       "      <th></th>\n",
       "      <th>PassengerId</th>\n",
       "      <th>Survived</th>\n",
       "      <th>Pclass</th>\n",
       "      <th>Name</th>\n",
       "      <th>Sex</th>\n",
       "      <th>Age</th>\n",
       "      <th>SibSp</th>\n",
       "      <th>Parch</th>\n",
       "      <th>Ticket</th>\n",
       "      <th>Fare</th>\n",
       "      <th>Cabin</th>\n",
       "      <th>Embarked</th>\n",
       "    </tr>\n",
       "  </thead>\n",
       "  <tbody>\n",
       "    <tr>\n",
       "      <th>0</th>\n",
       "      <td>1</td>\n",
       "      <td>0</td>\n",
       "      <td>3</td>\n",
       "      <td>Braund, Mr. Owen Harris</td>\n",
       "      <td>male</td>\n",
       "      <td>22.0</td>\n",
       "      <td>1</td>\n",
       "      <td>0</td>\n",
       "      <td>A/5 21171</td>\n",
       "      <td>7.2500</td>\n",
       "      <td>NaN</td>\n",
       "      <td>S</td>\n",
       "    </tr>\n",
       "    <tr>\n",
       "      <th>1</th>\n",
       "      <td>2</td>\n",
       "      <td>1</td>\n",
       "      <td>1</td>\n",
       "      <td>Cumings, Mrs. John Bradley (Florence Briggs Th...</td>\n",
       "      <td>female</td>\n",
       "      <td>38.0</td>\n",
       "      <td>1</td>\n",
       "      <td>0</td>\n",
       "      <td>PC 17599</td>\n",
       "      <td>71.2833</td>\n",
       "      <td>C85</td>\n",
       "      <td>C</td>\n",
       "    </tr>\n",
       "    <tr>\n",
       "      <th>2</th>\n",
       "      <td>3</td>\n",
       "      <td>1</td>\n",
       "      <td>3</td>\n",
       "      <td>Heikkinen, Miss. Laina</td>\n",
       "      <td>female</td>\n",
       "      <td>26.0</td>\n",
       "      <td>0</td>\n",
       "      <td>0</td>\n",
       "      <td>STON/O2. 3101282</td>\n",
       "      <td>7.9250</td>\n",
       "      <td>NaN</td>\n",
       "      <td>S</td>\n",
       "    </tr>\n",
       "    <tr>\n",
       "      <th>3</th>\n",
       "      <td>4</td>\n",
       "      <td>1</td>\n",
       "      <td>1</td>\n",
       "      <td>Futrelle, Mrs. Jacques Heath (Lily May Peel)</td>\n",
       "      <td>female</td>\n",
       "      <td>35.0</td>\n",
       "      <td>1</td>\n",
       "      <td>0</td>\n",
       "      <td>113803</td>\n",
       "      <td>53.1000</td>\n",
       "      <td>C123</td>\n",
       "      <td>S</td>\n",
       "    </tr>\n",
       "    <tr>\n",
       "      <th>4</th>\n",
       "      <td>5</td>\n",
       "      <td>0</td>\n",
       "      <td>3</td>\n",
       "      <td>Allen, Mr. William Henry</td>\n",
       "      <td>male</td>\n",
       "      <td>35.0</td>\n",
       "      <td>0</td>\n",
       "      <td>0</td>\n",
       "      <td>373450</td>\n",
       "      <td>8.0500</td>\n",
       "      <td>NaN</td>\n",
       "      <td>S</td>\n",
       "    </tr>\n",
       "  </tbody>\n",
       "</table>\n",
       "</div>"
      ],
      "text/plain": [
       "   PassengerId  Survived  Pclass  \\\n",
       "0            1         0       3   \n",
       "1            2         1       1   \n",
       "2            3         1       3   \n",
       "3            4         1       1   \n",
       "4            5         0       3   \n",
       "\n",
       "                                                Name     Sex   Age  SibSp  \\\n",
       "0                            Braund, Mr. Owen Harris    male  22.0      1   \n",
       "1  Cumings, Mrs. John Bradley (Florence Briggs Th...  female  38.0      1   \n",
       "2                             Heikkinen, Miss. Laina  female  26.0      0   \n",
       "3       Futrelle, Mrs. Jacques Heath (Lily May Peel)  female  35.0      1   \n",
       "4                           Allen, Mr. William Henry    male  35.0      0   \n",
       "\n",
       "   Parch            Ticket     Fare Cabin Embarked  \n",
       "0      0         A/5 21171   7.2500   NaN        S  \n",
       "1      0          PC 17599  71.2833   C85        C  \n",
       "2      0  STON/O2. 3101282   7.9250   NaN        S  \n",
       "3      0            113803  53.1000  C123        S  \n",
       "4      0            373450   8.0500   NaN        S  "
      ]
     },
     "execution_count": 2,
     "metadata": {},
     "output_type": "execute_result"
    }
   ],
   "source": [
    "df = pd.read_csv(\"train.csv\")\n",
    "\n",
    "df.head()"
   ]
  },
  {
   "cell_type": "markdown",
   "id": "9e84b799",
   "metadata": {},
   "source": [
    "## Exploratory Data Analysis (EDA):\n",
    "Exploratory Data Analysis (EDA) is the process of analyzing and investigating datasets to summarize their main characteristics—often using visual methods.\n",
    "\n",
    "In the Titanic Survival Prediction project, we use EDA to:\n",
    "\n",
    "    - Understand the data distribution\n",
    "\n",
    "    - Detect missing values\n",
    "\n",
    "    - Explore relationships between features (like gender, age, class) and the target variable (Survived)\n",
    "\n",
    "    - Identify outliers and patterns\n",
    "\n",
    "    - Guide preprocessing and feature engineering steps"
   ]
  },
  {
   "cell_type": "code",
   "execution_count": 3,
   "id": "474728fc",
   "metadata": {},
   "outputs": [
    {
     "name": "stdout",
     "output_type": "stream",
     "text": [
      "Dataset Shape: (891, 12)\n",
      "\n",
      " Column Data Type\n",
      "PassengerId      int64\n",
      "Survived         int64\n",
      "Pclass           int64\n",
      "Name            object\n",
      "Sex             object\n",
      "Age            float64\n",
      "SibSp            int64\n",
      "Parch            int64\n",
      "Ticket          object\n",
      "Fare           float64\n",
      "Cabin           object\n",
      "Embarked        object\n",
      "dtype: object\n",
      "\n",
      " Missing Values in each column:\n",
      "PassengerId      0\n",
      "Survived         0\n",
      "Pclass           0\n",
      "Name             0\n",
      "Sex              0\n",
      "Age            177\n",
      "SibSp            0\n",
      "Parch            0\n",
      "Ticket           0\n",
      "Fare             0\n",
      "Cabin          687\n",
      "Embarked         2\n",
      "dtype: int64\n",
      "\n",
      "Number of Duplicates Rows: 0 \n"
     ]
    }
   ],
   "source": [
    "# Display shape of the dataset\n",
    "print(f\"Dataset Shape: {df.shape}\")\n",
    "\n",
    "# Display column names and data types\n",
    "print(\"\\n Column Data Type\")\n",
    "print(df.dtypes)\n",
    "\n",
    "# Check for missing values\n",
    "print(\"\\n Missing Values in each column:\")\n",
    "print(df.isnull().sum())\n",
    "\n",
    "# Check for duplicates\n",
    "print(f\"\\nNumber of Duplicates Rows: {df.duplicated().sum()} \")"
   ]
  },
  {
   "cell_type": "markdown",
   "id": "4a9895c5",
   "metadata": {},
   "source": [
    "### Explanation:\n",
    "- df.duplicated() → returns a Boolean Series where True indicates a duplicate row.\n",
    "- .sum() → counts how many True values there are (i.e., how many duplicated rows exist).\n",
    "- f\"\" → formats the print string with the result.\n",
    "- object means non-numeric data like text or categories.\n",
    "\n",
    "**we've now:**\n",
    "      - Checked the dataset size and structure.891 rows & 12 columns\n",
    "      - Identified numeric vs categorical features.\n",
    "      - Found missing values (Age, Embarked, and likely Cabin) to fix. age has 177 missing value need to imputation, cabin often has many missing values — maybe drop or fill with 'Unknown'(not shown, but likely high).\n",
    "      - Confirmed no duplicate entries."
   ]
  },
  {
   "cell_type": "markdown",
   "id": "476caca6",
   "metadata": {},
   "source": [
    "## Analyze the Target Column (Survived)\n",
    "### What is Survived?\n",
    "This is the target variable (label) in the Titanic dataset:\n",
    "    0 = Passenger did not survive\n",
    "    1 = Passenger survived\n",
    "Let’s visualize the survival distribution."
   ]
  },
  {
   "cell_type": "code",
   "execution_count": 4,
   "id": "f0296c3d",
   "metadata": {},
   "outputs": [
    {
     "data": {
      "image/png": "[encoded data removed]",
      "text/plain": [
       "<Figure size 640x480 with 1 Axes>"
      ]
     },
     "metadata": {},
     "output_type": "display_data"
    },
    {
     "name": "stdout",
     "output_type": "stream",
     "text": [
      "\n",
      "Survival Value Count\n",
      "Survived\n",
      "0    549\n",
      "1    342\n",
      "Name: count, dtype: int64\n"
     ]
    }
   ],
   "source": [
    "# Countplot of survival\n",
    "sns.countplot(data=df, x='Survived')\n",
    "plt.title(\"Survival Distribution(0=Not Survived, 1=Survived)\")\n",
    "plt.xlabel(\"Survived\")\n",
    "plt.ylabel(\"Passenger Count\")\n",
    "plt.show()\n",
    "\n",
    "# Display exact counts\n",
    "print(\"\\nSurvival Value Count\")\n",
    "print(df['Survived'].value_counts())"
   ]
  },
  {
   "cell_type": "markdown",
   "id": "3d16f33a",
   "metadata": {},
   "source": [
    "### Explanation:\n",
    "- There is (0=549) means 549 passenger is not survived.\n",
    "- 342 passenger is survived(1=342)."
   ]
  },
  {
   "cell_type": "markdown",
   "id": "f43b9753",
   "metadata": {},
   "source": [
    "## Handling Missing Values\n",
    "### Why Handle Missing Values?\n",
    "Missing data can bias results or prevent your model from training properly. It's crucial to either:\n",
    "   - Fill (impute) missing values with appropriate statistics (mean, median, mode), or\n",
    "   - Drop them if they are too few and not essential."
   ]
  },
  {
   "cell_type": "code",
   "execution_count": 5,
   "id": "68e2d439",
   "metadata": {},
   "outputs": [
    {
     "name": "stdout",
     "output_type": "stream",
     "text": [
      "\n",
      "Missin Value After Handling\n",
      "PassengerId    0\n",
      "Survived       0\n",
      "Pclass         0\n",
      "Name           0\n",
      "Sex            0\n",
      "Age            0\n",
      "SibSp          0\n",
      "Parch          0\n",
      "Ticket         0\n",
      "Fare           0\n",
      "Embarked       0\n",
      "dtype: int64\n"
     ]
    }
   ],
   "source": [
    "# Fill missing Age with median\n",
    "df['Age'].fillna(df['Age'].median(), inplace=True)\n",
    "\n",
    "# Fill missing Embarked with mode\n",
    "df['Embarked'].fillna(df['Embarked'].mode()[0], inplace=True)\n",
    "\n",
    "# Drop Cabin column\n",
    "df.drop('Cabin', axis=1, inplace=True)\n",
    "\n",
    "# Verify again\n",
    "print(\"\\nMissin Value After Handling\")\n",
    "print(df.isnull().sum())"
   ]
  },
  {
   "cell_type": "markdown",
   "id": "3fe430c7",
   "metadata": {},
   "source": [
    "### Explanation:\n",
    "#### Why We Chose These Methods:\n",
    "   - Median for Age: Median is better than mean when outliers or skewed distributions are present.\n",
    "   - Mode for Embarked: Since only 2 values were missing, the most frequent port of embarkation was used to fill them.\n",
    "   - Drop Cabin: Too many missing values (most entries are null), so it was more practical to remove it entirely."
   ]
  },
  {
   "cell_type": "markdown",
   "id": "9e506f86",
   "metadata": {},
   "source": [
    "## Encoding Categorical Variables:\n",
    "This is a basic preprocessing step, required so that models can interpret categorical data.\n",
    "\n",
    "   - Purpose: Convert non-numeric (text) columns into numeric form"
   ]
  },
  {
   "cell_type": "code",
   "execution_count": 6,
   "id": "587ee97c",
   "metadata": {},
   "outputs": [
    {
     "name": "stdout",
     "output_type": "stream",
     "text": [
      "Check if any Unexpected Values:\n",
      "[0 1]\n",
      "   PassengerId  Survived  Pclass  \\\n",
      "0            1         0       3   \n",
      "1            2         1       1   \n",
      "2            3         1       3   \n",
      "3            4         1       1   \n",
      "4            5         0       3   \n",
      "\n",
      "                                                Name  Sex   Age  SibSp  Parch  \\\n",
      "0                            Braund, Mr. Owen Harris    0  22.0      1      0   \n",
      "1  Cumings, Mrs. John Bradley (Florence Briggs Th...    1  38.0      1      0   \n",
      "2                             Heikkinen, Miss. Laina    1  26.0      0      0   \n",
      "3       Futrelle, Mrs. Jacques Heath (Lily May Peel)    1  35.0      1      0   \n",
      "4                           Allen, Mr. William Henry    0  35.0      0      0   \n",
      "\n",
      "             Ticket     Fare  Embarked_Q  Embarked_S  \n",
      "0         A/5 21171   7.2500       False        True  \n",
      "1          PC 17599  71.2833       False       False  \n",
      "2  STON/O2. 3101282   7.9250       False        True  \n",
      "3            113803  53.1000       False        True  \n",
      "4            373450   8.0500       False        True  \n",
      "\n",
      " \n",
      " Basic info: \n",
      "<class 'pandas.core.frame.DataFrame'>\n",
      "RangeIndex: 891 entries, 0 to 890\n",
      "Data columns (total 12 columns):\n",
      " #   Column       Non-Null Count  Dtype  \n",
      "---  ------       --------------  -----  \n",
      " 0   PassengerId  891 non-null    int64  \n",
      " 1   Survived     891 non-null    int64  \n",
      " 2   Pclass       891 non-null    int64  \n",
      " 3   Name         891 non-null    object \n",
      " 4   Sex          891 non-null    int64  \n",
      " 5   Age          891 non-null    float64\n",
      " 6   SibSp        891 non-null    int64  \n",
      " 7   Parch        891 non-null    int64  \n",
      " 8   Ticket       891 non-null    object \n",
      " 9   Fare         891 non-null    float64\n",
      " 10  Embarked_Q   891 non-null    bool   \n",
      " 11  Embarked_S   891 non-null    bool   \n",
      "dtypes: bool(2), float64(2), int64(6), object(2)\n",
      "memory usage: 71.5+ KB\n",
      "None\n"
     ]
    }
   ],
   "source": [
    "# Encode 'Sex' & 'Embarked' column\n",
    "df['Sex'] = df['Sex'].map({'male': 0, 'female': 1})\n",
    "\n",
    "# Check if there are any unexpected values that turned into NaN\n",
    "print(\"Check if any Unexpected Values:\")\n",
    "print(df['Sex'].unique())\n",
    "\n",
    "df['Sex'].fillna(-1, inplace=True)  # Handle any unexpected NaN values after mapping\n",
    "\n",
    "\n",
    "# One-hot encode 'Embarked' column (drop first to avoid multicollinearity)\n",
    "df = pd.get_dummies(df, columns=['Embarked'], drop_first=True)\n",
    "\n",
    "# Preview updated DataFrame\n",
    "print(df.head())\n",
    "print(\"\\n \\n Basic info: \")\n",
    "print(df.info())\n"
   ]
  },
  {
   "cell_type": "markdown",
   "id": "84ea7aef",
   "metadata": {},
   "source": [
    "## Feature Engineering\n",
    "To transform and create meaningful features that can enhance model performance and extract deeper patterns from the dataset."
   ]
  },
  {
   "cell_type": "code",
   "execution_count": 7,
   "id": "392c961b",
   "metadata": {},
   "outputs": [
    {
     "name": "stdout",
     "output_type": "stream",
     "text": [
      "   Survived  Pclass  Sex   Age  SibSp  Parch     Fare  Embarked_Q  Embarked_S  \\\n",
      "0         0       3    0  22.0      1      0   7.2500       False        True   \n",
      "1         1       1    1  38.0      1      0  71.2833       False       False   \n",
      "2         1       3    1  26.0      0      0   7.9250       False        True   \n",
      "3         1       1    1  35.0      1      0  53.1000       False        True   \n",
      "4         0       3    0  35.0      0      0   8.0500       False        True   \n",
      "\n",
      "   FamilySize  IsAlone  \n",
      "0           1        0  \n",
      "1           1        0  \n",
      "2           0        1  \n",
      "3           1        0  \n",
      "4           0        1  \n"
     ]
    }
   ],
   "source": [
    "# Drop Unnecessary Columns: Removed columns like PassengerId, Name, Ticket, and Cabin as they do not contribute significant predictive power.\n",
    "df.drop(['PassengerId', 'Name', 'Ticket',], axis=1, inplace=True)\n",
    "\n",
    "# Feature Creation: FamilySize = SibSp + Parch (indicates traveling group size),IsAlone = 1 if FamilySize == 0, else 0\n",
    "df['FamilySize']= df['SibSp'] + df['Parch']\n",
    "df['IsAlone']= (df['FamilySize'] == 0).astype(int)\n",
    "\n",
    "print(df.head())"
   ]
  },
  {
   "cell_type": "markdown",
   "id": "70a9df70",
   "metadata": {},
   "source": [
    "## Feature Scaling & Train-Test Split\n",
    "#### Why we do this:\n",
    "   - Feature Scaling ensures that numeric features like Age, Fare, etc. are on the same scale — especially useful for distance-based algorithms (e.g., KNN, Logistic Regression).\n",
    "\n",
    "   - Train-Test Split divides the data into training and testing sets so we can evaluate the model on unseen data."
   ]
  },
  {
   "cell_type": "code",
   "execution_count": 8,
   "id": "c47103fe",
   "metadata": {},
   "outputs": [],
   "source": [
    "# Define features (X) and target (y)\n",
    "X = df.drop('Survived', axis=1)\n",
    "y = df['Survived']\n",
    "\n",
    "# Split into train and test sets (80% train, 20% test)\n",
    "X_train, X_val, y_train, y_val = train_test_split(X, y, test_size=0.2, random_state=42)\n",
    "\n",
    "# Scale features using StandardScaler\n",
    "scaler = StandardScaler()\n",
    "X_train_scaled = scaler.fit_transform(X_train)\n",
    "X_test_scaled = scaler.transform(X_val)"
   ]
  },
  {
   "cell_type": "code",
   "execution_count": 9,
   "id": "d9e62803-ef6a-4c27-af0b-a8994016d242",
   "metadata": {},
   "outputs": [],
   "source": [
    "def train_and_evaluate_model(model, X_train, y_train, X_val, y_val, model_name=\"Model\"):\n",
    "    # Train\n",
    "    model.fit(X_train, y_train)\n",
    "    \n",
    "    # Predict\n",
    "    preds = model.predict(X_val)\n",
    "\n",
    "    # Evaluate\n",
    "    accuracy = accuracy_score(y_val, preds)\n",
    "    precision = precision_score(y_val, preds)\n",
    "    recall = recall_score(y_val, preds)\n",
    "    f1 = f1_score(y_val, preds)\n",
    "\n",
    "    print(f\"---- {model_name} Evaluation ----\")\n",
    "    print(f\"Accuracy : {accuracy:.4f}\")\n",
    "    print(f\"Precision: {precision:.4f}\")\n",
    "    print(f\"Recall   : {recall:.4f}\")\n",
    "    print(f\"F1 Score : {f1:.4f}\")\n",
    "    print(\"\\n\")\n",
    "    \n",
    "    return model, preds\n"
   ]
  },
  {
   "cell_type": "markdown",
   "id": "db1ca6c8",
   "metadata": {},
   "source": [
    "## Model Training & Evaluation:\n",
    "**We'll start with Logistic Regression, a great baseline model for binary classification.**\n",
    "\n",
    "**Why Logistic Regression?**\n",
    "   - Simple and interpretable\n",
    "   - Works well for binary classification problems like Titanic survival\n",
    "   - Provides probabilities (good for ROC AUC analysis later)"
   ]
  },
  {
   "cell_type": "code",
   "execution_count": 10,
   "id": "960a599b",
   "metadata": {},
   "outputs": [
    {
     "name": "stdout",
     "output_type": "stream",
     "text": [
      "Accuracy: 0.7988826815642458\n",
      "\n",
      "Confusion Matrix:\n",
      " [[89 16]\n",
      " [20 54]]\n",
      "\n",
      "Classification Report:\n",
      "               precision    recall  f1-score   support\n",
      "\n",
      "           0       0.82      0.85      0.83       105\n",
      "           1       0.77      0.73      0.75        74\n",
      "\n",
      "    accuracy                           0.80       179\n",
      "   macro avg       0.79      0.79      0.79       179\n",
      "weighted avg       0.80      0.80      0.80       179\n",
      "\n"
     ]
    },
    {
     "data": {
      "image/png": "[encoded data removed]",
      "text/plain": [
       "<Figure size 640x480 with 2 Axes>"
      ]
     },
     "metadata": {},
     "output_type": "display_data"
    }
   ],
   "source": [
    "# Initialize and train model\n",
    "model = LogisticRegression()\n",
    "model.fit(X_train_scaled, y_train)\n",
    "\n",
    "# Predict on test data\n",
    "y_pred = model.predict(X_test_scaled)\n",
    "\n",
    "# Evaluation\n",
    "print(\"Accuracy:\", accuracy_score(y_val, y_pred))\n",
    "print(\"\\nConfusion Matrix:\\n\", confusion_matrix(y_val, y_pred))\n",
    "print(\"\\nClassification Report:\\n\", classification_report(y_val, y_pred))\n",
    "\n",
    "# Confusion Matrix Heatmap\n",
    "sns.heatmap(confusion_matrix(y_val, y_pred), annot= True, fmt='d', cmap='Blues')\n",
    "plt.title('Confusion Matrix')\n",
    "plt.xlabel('Predicted')\n",
    "plt.ylabel('Actual')\n",
    "plt.show()\n",
    "\n",
    "\n"
   ]
  },
  {
   "cell_type": "markdown",
   "id": "ef8525a7",
   "metadata": {},
   "source": [
    "## Train Random Forest & XGBoost"
   ]
  },
  {
   "cell_type": "code",
   "execution_count": 11,
   "id": "00596216",
   "metadata": {
    "scrolled": true
   },
   "outputs": [
    {
     "name": "stdout",
     "output_type": "stream",
     "text": [
      "\n",
      "Logistic Regression Performance:\n",
      "              precision    recall  f1-score   support\n",
      "\n",
      "           0       0.61      0.99      0.75       105\n",
      "           1       0.88      0.09      0.17        74\n",
      "\n",
      "    accuracy                           0.62       179\n",
      "   macro avg       0.74      0.54      0.46       179\n",
      "weighted avg       0.72      0.62      0.51       179\n",
      "\n",
      "Accuracy: 0.6201117318435754\n",
      "\n",
      "Random Forest Performance:\n",
      "              precision    recall  f1-score   support\n",
      "\n",
      "           0       0.84      0.88      0.86       105\n",
      "           1       0.81      0.77      0.79        74\n",
      "\n",
      "    accuracy                           0.83       179\n",
      "   macro avg       0.83      0.82      0.83       179\n",
      "weighted avg       0.83      0.83      0.83       179\n",
      "\n",
      "Accuracy: 0.8324022346368715\n",
      "\n",
      "XGBoost Performance:\n",
      "              precision    recall  f1-score   support\n",
      "\n",
      "           0       0.82      0.84      0.83       105\n",
      "           1       0.76      0.74      0.75        74\n",
      "\n",
      "    accuracy                           0.80       179\n",
      "   macro avg       0.79      0.79      0.79       179\n",
      "weighted avg       0.80      0.80      0.80       179\n",
      "\n",
      "Accuracy: 0.7988826815642458\n"
     ]
    }
   ],
   "source": [
    "# Initialize models\n",
    "rf_model = RandomForestClassifier(random_state=42)\n",
    "xgb_model = XGBClassifier(eval_metric='logloss', random_state=42)\n",
    "\n",
    "# Fit models\n",
    "rf_model.fit(X_train, y_train)\n",
    "xgb_model.fit(X_train, y_train)\n",
    "\n",
    "# Predict on validation set\n",
    "rf_preds = rf_model.predict(X_val)\n",
    "xgb_preds = xgb_model.predict(X_val)\n",
    "log_preds = model.predict(X_val)  # Logistic Regression (already trained)\n",
    "\n",
    "# Evaluate and compare\n",
    "print(\"\\nLogistic Regression Performance:\")\n",
    "print(classification_report(y_val, log_preds))\n",
    "print(\"Accuracy:\", accuracy_score(y_val, log_preds))\n",
    "\n",
    "print(\"\\nRandom Forest Performance:\")\n",
    "print(classification_report(y_val, rf_preds))\n",
    "print(\"Accuracy:\", accuracy_score(y_val, rf_preds))\n",
    "\n",
    "print(\"\\nXGBoost Performance:\")\n",
    "print(classification_report(y_val, xgb_preds))\n",
    "print(\"Accuracy:\", accuracy_score(y_val, xgb_preds))\n"
   ]
  },
  {
   "cell_type": "code",
   "execution_count": 12,
   "id": "17a8695d-a53a-4add-80e2-c9582f09cee5",
   "metadata": {},
   "outputs": [
    {
     "name": "stdout",
     "output_type": "stream",
     "text": [
      "\n",
      "Best Model Based on F1 Score:\n",
      "Random Forest with F1 Score: 0.7917\n"
     ]
    }
   ],
   "source": [
    "# Store F1 scores\n",
    "model_scores = {\n",
    "    'Logistic Regression': f1_score(y_val, log_preds),\n",
    "    'Random Forest': f1_score(y_val, rf_preds),\n",
    "    'XGBoost': f1_score(y_val, xgb_preds)\n",
    "}\n",
    "\n",
    "# Find the best one based on F1\n",
    "best_model = max(model_scores, key=model_scores.get)\n",
    "\n",
    "print(\"\\nBest Model Based on F1 Score:\")\n",
    "print(f\"{best_model} with F1 Score: {model_scores[best_model]:.4f}\")"
   ]
  },
  {
   "cell_type": "markdown",
   "id": "70d2f7d1-b4fb-462b-880d-2cc538fe0f41",
   "metadata": {},
   "source": [
    "## 1. Load and Preprocess the Test Set"
   ]
  },
  {
   "cell_type": "code",
   "execution_count": 13,
   "id": "187304f6-86e7-41c7-acb6-073697d71211",
   "metadata": {},
   "outputs": [],
   "source": [
    "# Load test data\n",
    "test_data = pd.read_csv(\"test.csv\")\n",
    "\n",
    "# Fill missing Age and Fare with medians from training set\n",
    "test_data['Age'].fillna(df['Age'].median(), inplace=True)\n",
    "test_data['Fare'].fillna(df['Fare'].median(), inplace=True)\n",
    "\n",
    "# Fill missing Embarked with most frequent ('S')\n",
    "test_data['Embarked'].fillna('S', inplace=True)\n",
    "\n",
    "# Encode 'Sex'\n",
    "test_data['Sex'] = test_data['Sex'].map({'male': 0, 'female': 1})\n",
    "test_data['Sex'].fillna(-1, inplace=True)\n",
    "\n",
    "# Encode 'Embarked'\n",
    "test_data['Embarked'] = test_data['Embarked'].map({'S': 0, 'C': 1, 'Q': 2})\n",
    "\n",
    "# One-hot encode 'Embarked' column (drop first)\n",
    "test_data = pd.get_dummies(test_data, columns=['Embarked'], drop_first=True)\n",
    "\n",
    "# Add missing dummy columns if they’re not present\n",
    "for col in ['Embarked_Q', 'Embarked_S']:\n",
    "    if col not in test_data.columns:\n",
    "        test_data[col] = 0\n",
    "\n",
    "# Create additional features\n",
    "test_data['FamilySize'] = test_data['SibSp'] + test_data['Parch']\n",
    "test_data['IsAlone'] = (test_data['FamilySize'] == 0).astype(int)\n",
    "\n",
    "# Save PassengerId for submission\n",
    "test_ids = test_data['PassengerId']\n",
    "\n",
    "# Drop unnecessary columns\n",
    "test_data.drop(['PassengerId', 'Name', 'Ticket', 'Cabin'], axis=1, inplace=True)\n",
    "\n",
    "# Ensure test_data columns are in the same order as training data (excluding Survived)\n",
    "test_data = test_data[df.drop('Survived', axis=1).columns]\n"
   ]
  },
  {
   "cell_type": "markdown",
   "id": "f7ec6bbf-5b1d-4f4f-9636-351d6d239175",
   "metadata": {},
   "source": [
    "## 2. Predict & Save Submission"
   ]
  },
  {
   "cell_type": "code",
   "execution_count": 14,
   "id": "8077ce2f-82f6-49cc-bc51-db96b5eef24d",
   "metadata": {},
   "outputs": [
    {
     "name": "stdout",
     "output_type": "stream",
     "text": [
      "Submission file created: submission.csv\n"
     ]
    },
    {
     "data": {
      "application/vnd.microsoft.datawrangler.viewer.v0+json": {
       "columns": [
        {
         "name": "index",
         "rawType": "int64",
         "type": "integer"
        },
        {
         "name": "PassengerId",
         "rawType": "int64",
         "type": "integer"
        },
        {
         "name": "Survived",
         "rawType": "int64",
         "type": "integer"
        }
       ],
       "conversionMethod": "pd.DataFrame",
       "ref": "f793ec3b-5672-4fda-8961-2b193652831a",
       "rows": [
        [
         "0",
         "892",
         "0"
        ],
        [
         "1",
         "893",
         "0"
        ],
        [
         "2",
         "894",
         "0"
        ],
        [
         "3",
         "895",
         "0"
        ],
        [
         "4",
         "896",
         "0"
        ]
       ],
       "shape": {
        "columns": 2,
        "rows": 5
       }
      },
      "text/html": [
       "<div>\n",
       "<style scoped>\n",
       "    .dataframe tbody tr th:only-of-type {\n",
       "        vertical-align: middle;\n",
       "    }\n",
       "\n",
       "    .dataframe tbody tr th {\n",
       "        vertical-align: top;\n",
       "    }\n",
       "\n",
       "    .dataframe thead th {\n",
       "        text-align: right;\n",
       "    }\n",
       "</style>\n",
       "<table border=\"1\" class=\"dataframe\">\n",
       "  <thead>\n",
       "    <tr style=\"text-align: right;\">\n",
       "      <th></th>\n",
       "      <th>PassengerId</th>\n",
       "      <th>Survived</th>\n",
       "    </tr>\n",
       "  </thead>\n",
       "  <tbody>\n",
       "    <tr>\n",
       "      <th>0</th>\n",
       "      <td>892</td>\n",
       "      <td>0</td>\n",
       "    </tr>\n",
       "    <tr>\n",
       "      <th>1</th>\n",
       "      <td>893</td>\n",
       "      <td>0</td>\n",
       "    </tr>\n",
       "    <tr>\n",
       "      <th>2</th>\n",
       "      <td>894</td>\n",
       "      <td>0</td>\n",
       "    </tr>\n",
       "    <tr>\n",
       "      <th>3</th>\n",
       "      <td>895</td>\n",
       "      <td>0</td>\n",
       "    </tr>\n",
       "    <tr>\n",
       "      <th>4</th>\n",
       "      <td>896</td>\n",
       "      <td>0</td>\n",
       "    </tr>\n",
       "  </tbody>\n",
       "</table>\n",
       "</div>"
      ],
      "text/plain": [
       "   PassengerId  Survived\n",
       "0          892         0\n",
       "1          893         0\n",
       "2          894         0\n",
       "3          895         0\n",
       "4          896         0"
      ]
     },
     "execution_count": 14,
     "metadata": {},
     "output_type": "execute_result"
    }
   ],
   "source": [
    "# Predict with trained Random Forest model\n",
    "test_preds = rf_model.predict(test_data)\n",
    "\n",
    "# Create submission DataFrame\n",
    "submission = pd.DataFrame({\n",
    "    'PassengerId': test_ids,\n",
    "    'Survived': test_preds\n",
    "})\n",
    "\n",
    "# Save to CSV\n",
    "submission.to_csv(\"submission.csv\", index=False)\n",
    "\n",
    "print(\"Submission file created: submission.csv\")\n",
    "submission.head()"
   ]
  },
  {
   "cell_type": "code",
   "execution_count": 15,
   "id": "e29332c3-973f-4c17-9fa3-4d01fce3954b",
   "metadata": {},
   "outputs": [
    {
     "data": {
      "image/png": "[encoded data removed]",
      "text/plain": [
       "<Figure size 640x480 with 1 Axes>"
      ]
     },
     "metadata": {},
     "output_type": "display_data"
    }
   ],
   "source": [
    "# Load the submission file\n",
    "submission = pd.read_csv('submission.csv')\n",
    "\n",
    "# Plot predicted survival count\n",
    "sns.countplot(x='Survived', data=submission)\n",
    "plt.title('Predicted Survival Count (Submission File)')\n",
    "plt.xlabel('Survived')\n",
    "plt.ylabel('Count')\n",
    "plt.xticks([0, 1], ['Did not survive', 'Survived'])\n",
    "plt.show()"
   ]
  },
  {
   "cell_type": "markdown",
   "id": "85257e0d-8563-470d-bed3-18b3fbfcf72d",
   "metadata": {},
   "source": [
    "## Hyperparameter Tuning – Random Forest\n",
    "**We'll tune these key hyperparameters:**\n",
    "   - n_estimators: Number of trees in the forest\n",
    "   - max_depth: Maximum depth of the trees\n",
    "   - min_samples_split: Minimum samples required to split an internal node\n",
    "   - min_samples_leaf: Minimum samples required at each leaf node"
   ]
  },
  {
   "cell_type": "code",
   "execution_count": 16,
   "id": "e36951c2-8edc-4477-a02c-b5bbf227efb9",
   "metadata": {},
   "outputs": [
    {
     "name": "stdout",
     "output_type": "stream",
     "text": [
      "Fitting 5 folds for each of 72 candidates, totalling 360 fits\n",
      "Best Parameters: {'max_depth': 6, 'min_samples_leaf': 2, 'min_samples_split': 2, 'n_estimators': 200}\n",
      "\n",
      "Classification Report on Validation Set:\n",
      "              precision    recall  f1-score   support\n",
      "\n",
      "           0       0.80      0.90      0.84       105\n",
      "           1       0.82      0.68      0.74        74\n",
      "\n",
      "    accuracy                           0.80       179\n",
      "   macro avg       0.81      0.79      0.79       179\n",
      "weighted avg       0.81      0.80      0.80       179\n",
      "\n"
     ]
    }
   ],
   "source": [
    "# Define parameter grid\n",
    "param_grid = {\n",
    "    'n_estimators': [100, 200],\n",
    "    'max_depth': [4, 6, 8, None],\n",
    "    'min_samples_split': [2, 5, 10],\n",
    "    'min_samples_leaf': [1, 2, 4]\n",
    "}\n",
    "\n",
    "# Initialize model\n",
    "rf = RandomForestClassifier(random_state=42)\n",
    "\n",
    "# GridSearchCV\n",
    "grid_search = GridSearchCV(estimator=rf, param_grid=param_grid, \n",
    "                           cv=5, n_jobs=-1, verbose=2, scoring='accuracy')\n",
    "\n",
    "# Fit\n",
    "grid_search.fit(X_train, y_train)\n",
    "\n",
    "# Best parameters\n",
    "print(\"Best Parameters:\", grid_search.best_params_)\n",
    "\n",
    "# Best model\n",
    "best_rf = grid_search.best_estimator_\n",
    "\n",
    "# Evaluate best model\n",
    "val_preds = best_rf.predict(X_val)\n",
    "print(\"\\nClassification Report on Validation Set:\")\n",
    "print(classification_report(y_val, val_preds))\n"
   ]
  },
  {
   "cell_type": "markdown",
   "id": "7f1db665-4ad7-4b21-98fb-c875d57d1e10",
   "metadata": {},
   "source": [
    "## Save the Best Model"
   ]
  },
  {
   "cell_type": "code",
   "execution_count": 17,
   "id": "edf69686-1a40-4b46-b720-9a13c9424f0f",
   "metadata": {},
   "outputs": [
    {
     "name": "stdout",
     "output_type": "stream",
     "text": [
      "Model and scaler saved successfully.\n"
     ]
    }
   ],
   "source": [
    "import pickle\n",
    "\n",
    "# Save the RandomForest model\n",
    "with open(\"random_forest_model.pkl\", \"wb\") as model_file:\n",
    "    pickle.dump(best_rf, model_file)\n",
    "\n",
    "# Save the scaler\n",
    "with open(\"scaler.pkl\", \"wb\") as scaler_file:\n",
    "    pickle.dump(scaler, scaler_file)\n",
    "\n",
    "    \n",
    "print(\"Model and scaler saved successfully.\")\n"
   ]
  },
  {
   "cell_type": "markdown",
   "id": "29169f26-7a6c-42be-9e66-03dd11f4846a",
   "metadata": {},
   "source": [
    "## Visualizations from submission.csv"
   ]
  },
  {
   "cell_type": "code",
   "execution_count": 18,
   "id": "8a9923d7-b7ec-4f46-8c3b-7f69e0ef3642",
   "metadata": {},
   "outputs": [
    {
     "data": {
      "image/png": "[encoded data removed]",
      "text/plain": [
       "<Figure size 600x400 with 1 Axes>"
      ]
     },
     "metadata": {},
     "output_type": "display_data"
    }
   ],
   "source": [
    "# 1. Count of Predicted Survivors vs Non-Survivors\n",
    "plt.figure(figsize=(6,4))\n",
    "sns.countplot(data=submission, x='Survived', palette='Set2')\n",
    "plt.title('Count of Predicted Survivors vs Non-Survivors')\n",
    "plt.xticks([0, 1], ['Did Not Survive', 'Survived'])\n",
    "plt.ylabel('Number of Passengers')\n",
    "plt.xlabel('Survival')\n",
    "plt.show()"
   ]
  },
  {
   "cell_type": "code",
   "execution_count": 19,
   "id": "964185ac-fa1f-4390-ae12-0ffd17728cb6",
   "metadata": {},
   "outputs": [
    {
     "data": {
      "image/png": "[encoded data removed]",
      "text/plain": [
       "<Figure size 500x500 with 1 Axes>"
      ]
     },
     "metadata": {},
     "output_type": "display_data"
    }
   ],
   "source": [
    "# 2. Pie Chart of Survival Ratio\n",
    "survival_counts = submission['Survived'].value_counts()\n",
    "labels = ['Did Not Survive', 'Survived']\n",
    "colors = ['#ff9999','#66b3ff']\n",
    "\n",
    "plt.figure(figsize=(5,5))\n",
    "plt.pie(survival_counts, labels=labels, autopct='%1.1f%%', startangle=90, colors=colors)\n",
    "plt.title('Survival Ratio (Predicted)')\n",
    "plt.axis('equal')  # Equal aspect ratio ensures the pie is drawn as a circle.\n",
    "plt.show()\n"
   ]
  },
  {
   "cell_type": "code",
   "execution_count": 20,
   "id": "b5bf3427-ee7e-405f-9056-86e580ca6bf7",
   "metadata": {},
   "outputs": [
    {
     "data": {
      "image/png": "[encoded data removed]",
      "text/plain": [
       "<Figure size 800x600 with 1 Axes>"
      ]
     },
     "metadata": {},
     "output_type": "display_data"
    }
   ],
   "source": [
    "# 3. Bar Plot of Feature Importances \n",
    "importances = rf_model.feature_importances_\n",
    "features = X_train.columns  # Make sure this matches your actual training feature set\n",
    "\n",
    "# Create a DataFrame for easier plotting\n",
    "feat_importances = pd.Series(importances, index=features).sort_values(ascending=False)\n",
    "\n",
    "# Plot\n",
    "plt.figure(figsize=(8,6))\n",
    "sns.barplot(x=feat_importances, y=feat_importances.index, palette=\"viridis\")\n",
    "plt.title('Feature Importances')\n",
    "plt.xlabel('Importance Score')\n",
    "plt.ylabel('Features')\n",
    "plt.tight_layout()\n",
    "plt.show()\n"
   ]
  },
  {
   "cell_type": "markdown",
   "id": "3d8f8a45-1883-4ca7-b0f0-b5beb683f5db",
   "metadata": {},
   "source": [
    "# Load the model"
   ]
  },
  {
   "cell_type": "code",
   "execution_count": 21,
   "id": "8315daf8-b2ad-46f5-bce3-cafe7189171e",
   "metadata": {},
   "outputs": [],
   "source": [
    "# Load saved model and preprocessors\n",
    "model = pickle.load(open(\"random_forest_model.pkl\", \"rb\"))\n",
    "scaler = pickle.load(open(\"scaler.pkl\", \"rb\"))"
   ]
  },
  {
   "cell_type": "code",
   "execution_count": null,
   "id": "aa8630d8-efca-4af8-b916-cfad3127b0c1",
   "metadata": {},
   "outputs": [],
   "source": []
  }
 ],
 "metadata": {
  "kernelspec": {
   "display_name": "titanic-ml",
   "language": "python",
   "name": "python3"
  },
  "language_info": {
   "codemirror_mode": {
    "name": "ipython",
    "version": 3
   },
   "file_extension": ".py",
   "mimetype": "text/x-python",
   "name": "python",
   "nbconvert_exporter": "python",
   "pygments_lexer": "ipython3",
   "version": "3.10.16"
  }
 },
 "nbformat": 4,
 "nbformat_minor": 5
}
